{
 "cells": [
  {
   "cell_type": "code",
   "execution_count": 10,
   "metadata": {},
   "outputs": [
    {
     "name": "stdout",
     "output_type": "stream",
     "text": [
      "a. 0.1096311475409836\n",
      "b. 0.30327868852459017\n",
      "c. 0.0020491803278688526\n",
      "d. 0.01331967213114754\n",
      "e. 0.014344262295081968\n",
      "f. 0.0020491803278688526\n"
     ]
    }
   ],
   "source": [
    "import numpy\n",
    "\n",
    "data = [[69, 36, 2],[112, 98, 14],[102, 98, 14],[13, 173, 245]]\n",
    "data2 = numpy.array(data).T.tolist()\n",
    "total = 0\n",
    "\n",
    "for i in data:\n",
    "    for j in i:\n",
    "        total += j\n",
    "print(f\"a. {sum(data[0])/total}\")\n",
    "\n",
    "print(f\"b. {sum(data2[0])/total}\")\n",
    "\n",
    "print(f\"c. {data[0][2]/total}\")\n",
    "\n",
    "print(f\"d. {data[3][0]/total}\")\n",
    "\n",
    "print(f\"e. {data[2][2]/total}\")\n",
    "\n",
    "print(f\"f. {data[0][2]/total}\")"
   ]
  },
  {
   "cell_type": "code",
   "execution_count": 11,
   "metadata": {},
   "outputs": [
    {
     "name": "stdout",
     "output_type": "stream",
     "text": [
      "a. 0.6066666666666667\n",
      "b. 0.66\n",
      "c. 0.10666666666666667\n"
     ]
    }
   ],
   "source": [
    "import numpy\n",
    "\n",
    "data = [[40, 16, 35],[15, 24, 20]]\n",
    "data2 = numpy.array(data).T.tolist()\n",
    "total = 0\n",
    "\n",
    "for i in data:\n",
    "    for j in i:\n",
    "        total += j\n",
    "print(f\"a. {sum(data[0])/total}\")\n",
    "print(f\"b. {(sum(data[0])-data[0][1]+data[1][1])/total}\")\n",
    "print(f\"c. {data[0][1]/total}\")"
   ]
  },
  {
   "cell_type": "code",
   "execution_count": null,
   "metadata": {},
   "outputs": [],
   "source": []
  }
 ],
 "metadata": {
  "kernelspec": {
   "display_name": "Python 3",
   "language": "python",
   "name": "python3"
  },
  "language_info": {
   "codemirror_mode": {
    "name": "ipython",
    "version": 3
   },
   "file_extension": ".py",
   "mimetype": "text/x-python",
   "name": "python",
   "nbconvert_exporter": "python",
   "pygments_lexer": "ipython3",
   "version": "3.8.3"
  }
 },
 "nbformat": 4,
 "nbformat_minor": 4
}
