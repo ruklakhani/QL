{
 "cells": [
  {
   "cell_type": "markdown",
   "metadata": {},
   "source": [
    "Former ISU basketball player Kelvin Cato is 83 inches tall. Assuming that heights follow approxi-mately a normal distribution with mean 70 and standard deviation σ= 3,\n",
    "(a) what is his corresponding z-score?\n",
    "(b) what proportion of men are taller than him"
   ]
  },
  {
   "cell_type": "code",
   "execution_count": 28,
   "metadata": {},
   "outputs": [
    {
     "name": "stdout",
     "output_type": "stream",
     "text": [
      "a) 4.333333333333333\n",
      "b) 0.0015% of men are taller than him\n"
     ]
    }
   ],
   "source": [
    "# z = (x – μ) / σ\n",
    "print(f\"a) {(83-70)/3}\")\n",
    "print(\"b) 0.0015% of men are taller than him\")"
   ]
  },
  {
   "cell_type": "markdown",
   "metadata": {},
   "source": [
    "Since the length of a downhill ski is related to the height of the individuals renting them, it is fairto assume that a normal distribution would describe the length of women’s skis at rental outlets inColorado. The mean of the distribution is 150 cm and the standard deviation is 10 cm.\n",
    "(a) What is the proportion of women’s ski lengths that are less than 130 cm?\n",
    "(b) What is the proportion of women’s ski lengths that are greater than 125 cm?\n",
    "(c) What is the proportion of women’s ski lengths that are between 125 and 155?\n",
    "(d) Very long skies are expensive and there are not many people who rent them. What is the longestwomen’s ski a rental shop should carry so that only 2 percent of the costumers will ask to renta longer ski?"
   ]
  },
  {
   "cell_type": "code",
   "execution_count": 29,
   "metadata": {},
   "outputs": [
    {
     "name": "stdout",
     "output_type": "stream",
     "text": [
      "a) z=-2.0 percentile= 2.28%\n",
      "b) z=-2.5 percentile= 99.38%\n",
      "c) percentile_155=69.15% percentile_125=99.38%   combined_percentile=30.23%\n",
      "d) longest ski = 170.52 cm\n"
     ]
    }
   ],
   "source": [
    "z_a = (130-150)/10\n",
    "print(f\"a) z={z_a} percentile= 2.28%\")\n",
    "\n",
    "z_b = (125-150)/10\n",
    "print(f\"b) z={z_b} percentile= 99.38%\")\n",
    "\n",
    "z_c = (155-150)/10\n",
    "print(\"c) percentile_155=69.15% percentile_125=99.38%   combined_percentile=30.23%\")\n",
    "\n",
    "# x = (z * σ) + μ\n",
    "print(f\"d) longest ski = {(2.052*10)+150} cm\")"
   ]
  },
  {
   "cell_type": "markdown",
   "metadata": {},
   "source": [
    "The BMI for males age 20 to 74 is follows approximately a normal distribution with mean μ= 27.9 and standard deviation σ = 7.8. Use the 68-95-99.7 rule to find\n",
    "(a) the percentage of males with BMI less than 20.1.\n",
    "(b) the percentages of males with BMI greater than 12.3.\n",
    "(c) the BMI values that correspond to the middle 99.7% of the distribution.\n",
    "(d) the value such that 0.15% of males have BMI’s greater than the value."
   ]
  },
  {
   "cell_type": "code",
   "execution_count": 30,
   "metadata": {},
   "outputs": [
    {
     "name": "stdout",
     "output_type": "stream",
     "text": [
      "a) mean - std_dev = 20.1! so 16.0%\n",
      "b) mean - 2*std_dev = 12.3! so 97.5%\n",
      "c) between 4.5 bmi and 51.3 bmi\n",
      "d) 51.3 bmi\n"
     ]
    }
   ],
   "source": [
    "print(f\"a) mean - std_dev = 20.1! so {(100-68)/2}%\")\n",
    "\n",
    "print(f\"b) mean - 2*std_dev = 12.3! so {95 + 2.5}%\")\n",
    "\n",
    "# x = (z * σ) + μ\n",
    "print(f\"c) between {(-3*7.8)+27.9} bmi and {(3*7.8)+27.9} bmi\")\n",
    "\n",
    "print(f\"d) {(3*7.8)+27.9} bmi\")"
   ]
  },
  {
   "cell_type": "code",
   "execution_count": null,
   "metadata": {},
   "outputs": [],
   "source": []
  }
 ],
 "metadata": {
  "kernelspec": {
   "display_name": "Python 3",
   "language": "python",
   "name": "python3"
  },
  "language_info": {
   "codemirror_mode": {
    "name": "ipython",
    "version": 3
   },
   "file_extension": ".py",
   "mimetype": "text/x-python",
   "name": "python",
   "nbconvert_exporter": "python",
   "pygments_lexer": "ipython3",
   "version": "3.7.4"
  }
 },
 "nbformat": 4,
 "nbformat_minor": 4
}
