{
 "cells": [
  {
   "cell_type": "code",
   "execution_count": 29,
   "metadata": {},
   "outputs": [
    {
     "name": "stdout",
     "output_type": "stream",
     "text": [
      "ModeResult(mode=array([3]), count=array([5]))\n"
     ]
    },
    {
     "data": {
      "text/plain": [
       "4.391304347826087"
      ]
     },
     "execution_count": 29,
     "metadata": {},
     "output_type": "execute_result"
    }
   ],
   "source": [
    "import numpy as np\n",
    "import pandas as pd\n",
    "import matplotlib.pyplot as plt\n",
    "import scipy.stats as stats\n",
    "\n",
    "mode = stats.mode(data)\n",
    "print(mode)\n",
    "\n",
    "data = np.array([1, 3, 5, 2, 3, 7, 8, 4, 10, 0, 6, 7, 3, 0, 3, 0, 5, 7, 10, 1, 4, 9, 3])\n",
    "\n",
    "def compute_mean(dataset):\n",
    "    # make a sum variable\n",
    "    sum = 0\n",
    "    # loop over the list and add up all total\n",
    "    for i in dataset:\n",
    "        sum = sum + i\n",
    "    # divide the total by the length of the list\n",
    "    mean = sum / len(dataset)\n",
    "    # return the mean\n",
    "    return mean\n",
    "\n",
    "\n",
    "\n",
    "compute_mean(dataset)\n",
    "\n",
    "np.mean(dataset)\n",
    "\n"
   ]
  },
  {
   "cell_type": "code",
   "execution_count": 24,
   "metadata": {},
   "outputs": [
    {
     "data": {
      "text/plain": [
       "4.0"
      ]
     },
     "execution_count": 24,
     "metadata": {},
     "output_type": "execute_result"
    }
   ],
   "source": [
    "def compute_median(dataset):\n",
    "    # check if the dataset is even or odd\n",
    "    if dataset % 2 != 0:\n",
    "      # if odd, subtract the length by 1, divide in half, and then take the next element\n",
    "      median_index = (len(dataset) - 1)/2 + 1\n",
    "      median = dataset[median_index]\n",
    "    else:\n",
    "      # otherwise, divide the dataset in half and take the mean of the two middling elements\n",
    "      left_index = len(dataset)/2 + 1\n",
    "      right_index = len(dataset)/2 - 1\n",
    "      median = (dataset(left_index) + dataset(right_index))/2\n",
    "    return median\n",
    "\n",
    "np.median(dataset)"
   ]
  },
  {
   "cell_type": "code",
   "execution_count": 6,
   "metadata": {},
   "outputs": [
    {
     "name": "stdout",
     "output_type": "stream",
     "text": [
      "         Apple  Orange  Banana  Pear\n",
      "Basket1     10      20      30    40\n",
      "Basket2      7      14      21    28\n",
      "Basket3     55      15       8    12\n",
      "Basket4     15      14       1     8\n",
      "Basket5      7       1       1     8\n",
      "Basket6      5       4       9     2\n",
      "           Apple     Orange     Banana       Pear\n",
      "count   6.000000   6.000000   6.000000   6.000000\n",
      "mean   16.500000  11.333333  11.666667  16.333333\n",
      "std    19.180719   7.257180  11.587349  14.555640\n",
      "min     5.000000   1.000000   1.000000   2.000000\n",
      "25%     7.000000   6.500000   2.750000   8.000000\n",
      "50%     8.500000  14.000000   8.500000  10.000000\n",
      "75%    13.750000  14.750000  18.000000  24.000000\n",
      "max    55.000000  20.000000  30.000000  40.000000\n"
     ]
    }
   ],
   "source": [
    "import pandas as pd\n",
    "\n",
    "df = pd.DataFrame([[10, 20, 30, 40], [7, 14, 21, 28], [55, 15, 8, 12],\n",
    "                   [15, 14, 1, 8], [7, 1, 1, 8], [5, 4, 9, 2]],\n",
    "                  columns=['Apple', 'Orange', 'Banana', 'Pear'],\n",
    "                  index=['Basket1', 'Basket2', 'Basket3', 'Basket4',\n",
    "                         'Basket5', 'Basket6'])\n",
    "\n",
    "# print(\"\\n----------- Calculate Mean -----------\\n\")\n",
    "# print(df.mean())\n",
    "\n",
    "# print(\"\\n----------- Calculate Median -----------\\n\")\n",
    "# print(df.median())\n",
    "\n",
    "# print(\"\\n----------- Calculate Mode -----------\\n\")\n",
    "# print(df.mode())\n",
    "\n",
    "print(df.describe())\n",
    "\n",
    "# children = df[df['Age'] < 16]\n",
    "# children.shape\n",
    "# I'm not sure what this does ^"
   ]
  },
  {
   "cell_type": "code",
   "execution_count": null,
   "metadata": {},
   "outputs": [],
   "source": []
  }
 ],
 "metadata": {
  "kernelspec": {
   "display_name": "Python 3",
   "language": "python",
   "name": "python3"
  },
  "language_info": {
   "codemirror_mode": {
    "name": "ipython",
    "version": 3
   },
   "file_extension": ".py",
   "mimetype": "text/x-python",
   "name": "python",
   "nbconvert_exporter": "python",
   "pygments_lexer": "ipython3",
   "version": "3.8.3"
  }
 },
 "nbformat": 4,
 "nbformat_minor": 4
}
