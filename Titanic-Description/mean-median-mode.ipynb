{
 "cells": [
  {
   "cell_type": "code",
   "execution_count": 7,
   "metadata": {},
   "outputs": [
    {
     "name": "stdout",
     "output_type": "stream",
     "text": [
      "ModeResult(mode=array([4]), count=array([3]))\n"
     ]
    },
    {
     "data": {
      "text/plain": [
       "7.0"
      ]
     },
     "execution_count": 7,
     "metadata": {},
     "output_type": "execute_result"
    }
   ],
   "source": [
    "import numpy as np\n",
    "import pandas as pd\n",
    "import matplotlib.pyplot as plt\n",
    "import scipy.stats as stats\n",
    "\n",
    "data = np.array([1, 3, 5, 2, 3, 7, 8, 4, 10, 0, 6, 7, 3, 0, 3, 0, 5, 7, 10, 1, 4, 9, 3])\n",
    "final = np.array([4, 9, 8, 2, 16, 4, 4, 8, 9, 6])\n",
    "\n",
    "mode = stats.mode(final)\n",
    "print(mode)\n",
    "\n",
    "def compute_mean(dataset):\n",
    "    # make a sum variable\n",
    "    sum = 0\n",
    "    # loop over the list and add up all total\n",
    "    for i in dataset:\n",
    "        sum = sum + i\n",
    "    # divide the total by the length of the list\n",
    "    mean = sum / len(dataset)\n",
    "    # return the mean\n",
    "    return mean\n",
    "\n",
    "\n",
    "\n",
    "compute_mean(final)\n",
    "\n",
    "# np.mean(final)\n",
    "\n"
   ]
  },
  {
   "cell_type": "code",
   "execution_count": 6,
   "metadata": {},
   "outputs": [
    {
     "data": {
      "text/plain": [
       "7.0"
      ]
     },
     "execution_count": 6,
     "metadata": {},
     "output_type": "execute_result"
    }
   ],
   "source": [
    "import numpy as np\n",
    "\n",
    "\n",
    "def compute_median(dataset):\n",
    "    # check if the dataset is even or odd\n",
    "    if dataset % 2 != 0:\n",
    "      # if odd, subtract the length by 1, divide in half, and then take the next element\n",
    "      median_index = (len(dataset) - 1)/2 + 1\n",
    "      median = dataset[median_index]\n",
    "    else:\n",
    "      # otherwise, divide the dataset in half and take the mean of the two middling elements\n",
    "      left_index = len(dataset)/2 + 1\n",
    "      right_index = len(dataset)/2 - 1\n",
    "      median = (dataset(left_index) + dataset(right_index))/2\n",
    "    return median\n",
    "\n",
    "np.median(final)"
   ]
  },
  {
   "cell_type": "code",
   "execution_count": 34,
   "metadata": {},
   "outputs": [
    {
     "name": "stdout",
     "output_type": "stream",
     "text": [
      "\n",
      "----------- describe -----------\n",
      "\n",
      "       PassengerId    Survived      Pclass         Age       SibSp  \\\n",
      "count   891.000000  891.000000  891.000000  714.000000  891.000000   \n",
      "mean    446.000000    0.383838    2.308642   29.699118    0.523008   \n",
      "std     257.353842    0.486592    0.836071   14.526497    1.102743   \n",
      "min       1.000000    0.000000    1.000000    0.420000    0.000000   \n",
      "25%     223.500000    0.000000    2.000000   20.125000    0.000000   \n",
      "50%     446.000000    0.000000    3.000000   28.000000    0.000000   \n",
      "75%     668.500000    1.000000    3.000000   38.000000    1.000000   \n",
      "max     891.000000    1.000000    3.000000   80.000000    8.000000   \n",
      "\n",
      "            Parch        Fare  \n",
      "count  891.000000  891.000000  \n",
      "mean     0.381594   32.204208  \n",
      "std      0.806057   49.693429  \n",
      "min      0.000000    0.000000  \n",
      "25%      0.000000    7.910400  \n",
      "50%      0.000000   14.454200  \n",
      "75%      0.000000   31.000000  \n",
      "max      6.000000  512.329200  \n"
     ]
    }
   ],
   "source": [
    "import numpy as np\n",
    "import pandas as pd\n",
    "\n",
    "df = pd.DataFrame([[10, 20, 30, 40], [7, 14, 21, 28], [55, 15, 8, 12],\n",
    "                   [15, 14, 1, 8], [7, 1, 1, 8], [5, 4, 9, 2]],\n",
    "                  columns=['Apple', 'Orange', 'Banana', 'Pear'],\n",
    "                  index=['Basket1', 'Basket2', 'Basket3', 'Basket4',\n",
    "                         'Basket5', 'Basket6'])\n",
    "\n",
    "# print(\"\\n----------- titanic data -----------\\n\")\n",
    "df = pd.read_csv('titanic.csv')\n",
    "# print(df.head())\n",
    "\n",
    "# print(\"\\n----------- how many features/elements -----------\\n\")\n",
    "# print(df.shape)\n",
    "\n",
    "print(\"\\n----------- describe -----------\\n\")\n",
    "print(df.describe())\n",
    "\n",
    "# print(\"\\n----------- number of rows and columns in age dataframe -----------\\n\")\n",
    "# children = df[df['Age'] < 16]\n",
    "# print(children.shape)\n",
    "\n",
    "\n",
    "# print(\"\\n----------- datatypes -----------\\n\")\n",
    "# print(df.dtypes)\n",
    "\n",
    "# print(\"\\n----------- which values are null -----------\\n\")\n",
    "# print(df.isnull().sum())\n"
   ]
  },
  {
   "cell_type": "code",
   "execution_count": 11,
   "metadata": {},
   "outputs": [
    {
     "name": "stdout",
     "output_type": "stream",
     "text": [
      "\n",
      "----------- mean, median, mode of age -----------\n",
      "\n",
      "29.69911764705882\n",
      "28.0\n",
      "24.0\n",
      "\n",
      "----------- mean, median, mode of fare -----------\n",
      "\n",
      "32.204207968574636\n",
      "14.4542\n",
      "8.05\n",
      "\n",
      "----------- oldest passenger -----------\n",
      "\n",
      "80.0\n",
      "\n",
      "----------- cheapest fare -----------\n",
      "\n",
      "0.0\n",
      "\n",
      "----------- range of ticket prices -----------\n",
      "\n",
      "512.3292\n",
      "\n",
      "----------- variance of age -----------\n",
      "\n",
      "211.01912474630802\n"
     ]
    }
   ],
   "source": [
    "print(\"\\n----------- mean, median, mode of age -----------\\n\")\n",
    "print(df.mean()['Age'])\n",
    "print(df.median()['Age'])\n",
    "print(df.mode()['Age'][0])\n",
    "\n",
    "print(\"\\n----------- mean, median, mode of fare -----------\\n\")\n",
    "print(df.mean()['Fare'])\n",
    "print(df.median()['Fare'])\n",
    "print(df.mode()['Fare'][0])\n",
    "\n",
    "print(\"\\n----------- oldest passenger -----------\\n\")\n",
    "print(df.max()['Age'])\n",
    "\n",
    "print(\"\\n----------- cheapest fare -----------\\n\")\n",
    "print(df.min()['Fare'])\n",
    "\n",
    "print(\"\\n----------- range of ticket prices -----------\\n\")\n",
    "print(df.max()['Fare']-df.min()['Fare'])\n",
    "\n",
    "print(\"\\n----------- variance of age -----------\\n\")\n",
    "print(df.var()['Age'])"
   ]
  },
  {
   "cell_type": "code",
   "execution_count": 35,
   "metadata": {},
   "outputs": [
    {
     "name": "stdout",
     "output_type": "stream",
     "text": [
      "[[<matplotlib.axes._subplots.AxesSubplot object at 0x123ac69a0>]]\n",
      "[[<matplotlib.axes._subplots.AxesSubplot object at 0x122f0f700>]]\n"
     ]
    },
    {
     "data": {
      "image/png": "[encoded data removed]",
      "text/plain": [
       "<Figure size 432x288 with 1 Axes>"
      ]
     },
     "metadata": {
      "needs_background": "light"
     },
     "output_type": "display_data"
    },
    {
     "data": {
      "image/png": "[encoded data removed]",
      "text/plain": [
       "<Figure size 432x288 with 1 Axes>"
      ]
     },
     "metadata": {
      "needs_background": "light"
     },
     "output_type": "display_data"
    }
   ],
   "source": [
    "print(df.hist(column=\"Age\"))\n",
    "print(df.hist(column=\"Fare\"))"
   ]
  },
  {
   "cell_type": "code",
   "execution_count": null,
   "metadata": {},
   "outputs": [],
   "source": []
  },
  {
   "cell_type": "code",
   "execution_count": null,
   "metadata": {},
   "outputs": [],
   "source": []
  },
  {
   "cell_type": "code",
   "execution_count": null,
   "metadata": {},
   "outputs": [],
   "source": []
  },
  {
   "cell_type": "code",
   "execution_count": null,
   "metadata": {},
   "outputs": [],
   "source": []
  }
 ],
 "metadata": {
  "kernelspec": {
   "display_name": "Python 3",
   "language": "python",
   "name": "python3"
  },
  "language_info": {
   "codemirror_mode": {
    "name": "ipython",
    "version": 3
   },
   "file_extension": ".py",
   "mimetype": "text/x-python",
   "name": "python",
   "nbconvert_exporter": "python",
   "pygments_lexer": "ipython3",
   "version": "3.8.3"
  }
 },
 "nbformat": 4,
 "nbformat_minor": 4
}
