{
 "cells": [
  {
   "cell_type": "code",
   "execution_count": 23,
   "metadata": {
    "scrolled": true
   },
   "outputs": [
    {
     "name": "stdout",
     "output_type": "stream",
     "text": [
      "[[0.0, 0.0, 0.0], [0.0, 1.6666666666666667, 1.1666666666666667], [0.0, 1.1666666666666667, 0.9166666666666666]]\n"
     ]
    }
   ],
   "source": [
    "import numpy as np\n",
    "\n",
    "def cov_matrix_calculation(data):\n",
    "    # calculate covariance matrix of the data\n",
    "    data = data.T\n",
    "    n = len(data[0])\n",
    "    result = []\n",
    "    for i in range(len(data)):\n",
    "        row = []\n",
    "        for j in range(len(data)):\n",
    "            avg1 = np.mean(data[i])\n",
    "            avg2 = np.mean(data[j])\n",
    "            sum = 0\n",
    "            for r in range(n):\n",
    "                sum += (data[i][r] - avg1)*(data[j][r] - avg2)\n",
    "            cov = (sum)/(n-1)\n",
    "            row.append(cov)\n",
    "        result.append(row)\n",
    "            \n",
    "#     cov_matx = np.cov(data.T)\n",
    "    return result\n",
    "\n",
    "dataset = np.array([[1, 1, 1], [1, 2, 1], [1, 3, 2], [1, 4, 3]])\n",
    "print(cov_matrix_calculation(dataset))"
   ]
  },
  {
   "cell_type": "code",
   "execution_count": null,
   "metadata": {},
   "outputs": [],
   "source": []
  },
  {
   "cell_type": "code",
   "execution_count": null,
   "metadata": {},
   "outputs": [],
   "source": []
  }
 ],
 "metadata": {
  "kernelspec": {
   "display_name": "Python 3",
   "language": "python",
   "name": "python3"
  },
  "language_info": {
   "codemirror_mode": {
    "name": "ipython",
    "version": 3
   },
   "file_extension": ".py",
   "mimetype": "text/x-python",
   "name": "python",
   "nbconvert_exporter": "python",
   "pygments_lexer": "ipython3",
   "version": "3.8.3"
  }
 },
 "nbformat": 4,
 "nbformat_minor": 4
}
